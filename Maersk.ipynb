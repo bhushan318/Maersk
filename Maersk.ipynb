{
 "cells": [
  {
   "cell_type": "markdown",
   "metadata": {},
   "source": [
    "# Q1:   Explain in brief, difference between Django, Pyramid and Flask"
   ]
  },
  {
   "cell_type": "markdown",
   "metadata": {},
   "source": [
    "Django, Pyramid and Flask are python web frameworks used to build web applications. \n",
    "\n",
    "Dajango: it is majorly used to build larger applications and has more inbuild modules hence easy to build apps. \n",
    "\n",
    "Pyramid: It is smillar to Danjango except that devloper has flexiblity to select the right tool.\n",
    "\n",
    "Flask: It is used for small applications with simpler requirements.\n"
   ]
  },
  {
   "cell_type": "markdown",
   "metadata": {},
   "source": [
    "# Q2: If a list is nums=[0,1,2,3,4], what is nums[-1]?"
   ]
  },
  {
   "cell_type": "code",
   "execution_count": 1,
   "metadata": {},
   "outputs": [
    {
     "data": {
      "text/plain": [
       "4"
      ]
     },
     "execution_count": 1,
     "metadata": {},
     "output_type": "execute_result"
    }
   ],
   "source": [
    "# -value of index retuns the values from tail end\n",
    "nums=[0,1,2,3,4]\n",
    "nums[-1]"
   ]
  },
  {
   "cell_type": "markdown",
   "metadata": {},
   "source": [
    "# Q3: Explain the output of the following piece of code"
   ]
  },
  {
   "cell_type": "code",
   "execution_count": 2,
   "metadata": {},
   "outputs": [
    {
     "data": {
      "text/plain": [
       "(123, 'John', 123, 'John')"
      ]
     },
     "execution_count": 2,
     "metadata": {},
     "output_type": "execute_result"
    }
   ],
   "source": [
    "tuple=(123,'John')\n",
    "tuple*=2\n",
    "tuple"
   ]
  },
  {
   "cell_type": "markdown",
   "metadata": {},
   "source": [
    "1. Here name of variable used to create a tuple is an key word/ inbuilt funtion. \n",
    "2. create tuple is mutiplied by 2 ( which is equvilent to tuple = tuple*2)\n",
    "3. Final tuple is printed "
   ]
  },
  {
   "cell_type": "markdown",
   "metadata": {},
   "source": [
    "# Q4:  Differentiate between the append() and extend() methods of a list with an example"
   ]
  },
  {
   "cell_type": "markdown",
   "metadata": {},
   "source": [
    "### append() is used to add a element to existing list at the end \n",
    "### extend() is used to add a list or iterable to existing list at the end "
   ]
  },
  {
   "cell_type": "code",
   "execution_count": 3,
   "metadata": {},
   "outputs": [],
   "source": [
    "example_list =[] # Create a empty list"
   ]
  },
  {
   "cell_type": "code",
   "execution_count": 4,
   "metadata": {},
   "outputs": [
    {
     "data": {
      "text/plain": [
       "[10, 'hello']"
      ]
     },
     "execution_count": 4,
     "metadata": {},
     "output_type": "execute_result"
    }
   ],
   "source": [
    "example_list.append(10) # append an int  to list\n",
    "example_list.append('hello') # append an string to list\n",
    "example_list"
   ]
  },
  {
   "cell_type": "code",
   "execution_count": 5,
   "metadata": {},
   "outputs": [
    {
     "data": {
      "text/plain": [
       "[10, 'hello', 0, 1, 2, 3, 4, 10, 'hello', 0, 1, 2, 3, 4]"
      ]
     },
     "execution_count": 5,
     "metadata": {},
     "output_type": "execute_result"
    }
   ],
   "source": [
    "example_list.extend(range(5)) # extending a iterable\n",
    "example_list.extend(example_list) # extending a list\n",
    "example_list"
   ]
  },
  {
   "cell_type": "markdown",
   "metadata": {},
   "source": [
    "# Q5:How do you remove the leading whitespace in a string? For example, leading whitespace in a string is the whitespace in a string before the first non-whitespace character. Eg.  '   Maersk'"
   ]
  },
  {
   "cell_type": "markdown",
   "metadata": {},
   "source": [
    "## strip is function used to remove leading and trailing spaces \n"
   ]
  },
  {
   "cell_type": "code",
   "execution_count": 6,
   "metadata": {},
   "outputs": [
    {
     "data": {
      "text/plain": [
       "'Maersk'"
      ]
     },
     "execution_count": 6,
     "metadata": {},
     "output_type": "execute_result"
    }
   ],
   "source": [
    "given_string = ' Maersk'\n",
    "given_string.strip()"
   ]
  },
  {
   "cell_type": "markdown",
   "metadata": {},
   "source": [
    "# Q6:  What is the enumerate () function in Python? Explain with an example."
   ]
  },
  {
   "cell_type": "markdown",
   "metadata": {},
   "source": [
    "####  enumerate is an inbuild function used to return the index of iterable or list."
   ]
  },
  {
   "cell_type": "code",
   "execution_count": 7,
   "metadata": {},
   "outputs": [
    {
     "name": "stdout",
     "output_type": "stream",
     "text": [
      "[0, 4, 8, 14, 20]\n",
      "[0, 4, 8, 14, 20]\n"
     ]
    }
   ],
   "source": [
    "# in this example lets try to get the index of vowels of list. \n",
    "import string\n",
    "list_example = list(string.ascii_lowercase)\n",
    "vowles = ['a', 'e', 'i', 'o', 'u']\n",
    "\n",
    "# one way of doing is \n",
    "\n",
    "vowel_index = []\n",
    "for i in range(len(list_example)):\n",
    "    if list_example[i] in vowles:\n",
    "        vowel_index.append(i)\n",
    "print(vowel_index)\n",
    "\n",
    "\n",
    "# using enumarate\n",
    "vowel_index_en =[] \n",
    "for c, v in enumerate(list_example):\n",
    "    if v in vowles:\n",
    "        vowel_index_en.append(c)\n",
    "print(vowel_index_en)\n"
   ]
  },
  {
   "cell_type": "markdown",
   "metadata": {},
   "source": [
    "# Q7: Explain atleast three advantages of NumPy Array over the list in python."
   ]
  },
  {
   "cell_type": "markdown",
   "metadata": {},
   "source": [
    "#### numpy is used to store data of same dtype, where as list can store any dtype\n",
    "\n",
    "Advatanges of numpy over list: \n",
    "   - Memory: numpy occupies lesser space than list\n",
    "   - performance: calculation/evaluation if numpy takes lesser time than list\n",
    "   - functions: numpy has various optimized funtions compared to list."
   ]
  },
  {
   "cell_type": "markdown",
   "metadata": {},
   "source": [
    "# Q8: List out all the possible differences between method and constructor in Python."
   ]
  },
  {
   "cell_type": "markdown",
   "metadata": {},
   "source": [
    "- Constructor: are special type of methods used to assign values to objects in its class\n",
    "- Method is set of intructions / code that can be used at any point of program\n",
    "- Constructor has no retrun values, Methods may or may not return value\n",
    "- if no values are given to a function, constructor use to store  default values to avoid error. "
   ]
  },
  {
   "cell_type": "markdown",
   "metadata": {},
   "source": [
    "# Q9: Define generator and iterator with an example in Python. What is Monkey Patching?\n"
   ]
  },
  {
   "cell_type": "code",
   "execution_count": null,
   "metadata": {},
   "outputs": [],
   "source": []
  },
  {
   "cell_type": "markdown",
   "metadata": {},
   "source": [
    "# Q10: What will the output of the following code snippet: "
   ]
  },
  {
   "cell_type": "code",
   "execution_count": 8,
   "metadata": {},
   "outputs": [
    {
     "name": "stdout",
     "output_type": "stream",
     "text": [
      "1\n",
      "4\n",
      "9\n",
      "16\n",
      "25\n",
      "36\n",
      "49\n"
     ]
    }
   ],
   "source": [
    "def squares(n):\n",
    "    i=1\n",
    "    while(i<=n):\n",
    "        yield i**2\n",
    "        i+=1\n",
    "for i in squares(7):\n",
    "    print(i)\n",
    "# prints square of number from 1 to n:"
   ]
  },
  {
   "cell_type": "markdown",
   "metadata": {},
   "source": [
    "# Embedded Theory Questions"
   ]
  },
  {
   "cell_type": "code",
   "execution_count": 9,
   "metadata": {},
   "outputs": [
    {
     "name": "stdout",
     "output_type": "stream",
     "text": [
      "Object `Microcontroller` not found.\n",
      "Object `Timer` not found.\n",
      "Object `systems` not found.\n"
     ]
    }
   ],
   "source": [
    "1. How I/O devices are classified for embedded system?\n",
    "2. What is the difference between Microprocessor and Microcontroller?\n",
    "3. What is a Watchdog Timer?\n",
    "4. What are common errors in Embedded system?\n",
    "5. What is the need for an infinite loop sometimes in embedded systems?"
   ]
  },
  {
   "cell_type": "markdown",
   "metadata": {},
   "source": [
    "# Problem Statement 1\n",
    "Define a ML technique that you would use for the fake news detection.\n",
    "Build a Machine learning Model to detect the Fake new detection.\n",
    "We could use online Jupyter Lab or similar environment to build, train and test the model\n",
    "You could use your choice of dataset for the training and testing this model or any\n",
    "dataset from https://www.kaggle.com/datasets?search=Fake+news\n",
    "Based on the Test data set you should also be able to identify the accuracy of the Model"
   ]
  },
  {
   "cell_type": "code",
   "execution_count": 10,
   "metadata": {},
   "outputs": [],
   "source": [
    "# For this task dataset from  \"https://www.kaggle.com/anmolkumar/fake-news-content-detection?select=train.csv\" is used.\n",
    "# as the test cases labels are not known in the shared link, \n",
    "# train data only considered as overall data and is splited train and test "
   ]
  },
  {
   "cell_type": "code",
   "execution_count": 12,
   "metadata": {},
   "outputs": [],
   "source": [
    "# Import packages \n",
    "import pandas as pd\n",
    "import numpy as np \n",
    "from matplotlib import pyplot as plt\n",
    "from sklearn import preprocessing\n",
    "import easygui as eg\n",
    "from sklearn.model_selection import train_test_split\n",
    "import nltk\n",
    "from nltk.corpus import stopwords\n",
    "from sklearn.feature_extraction.text import TfidfVectorizer\n",
    "from sklearn.metrics import accuracy_score,confusion_matrix,classification_report\n",
    "from sklearn import naive_bayes\n",
    "from sklearn.linear_model import logistic\n",
    "from sklearn.tree import DecisionTreeClassifier\n",
    "import xgboost\n",
    "import warnings\n",
    "warnings.filterwarnings(\"ignore\")"
   ]
  },
  {
   "cell_type": "code",
   "execution_count": 13,
   "metadata": {},
   "outputs": [
    {
     "data": {
      "text/html": [
       "<div>\n",
       "<style scoped>\n",
       "    .dataframe tbody tr th:only-of-type {\n",
       "        vertical-align: middle;\n",
       "    }\n",
       "\n",
       "    .dataframe tbody tr th {\n",
       "        vertical-align: top;\n",
       "    }\n",
       "\n",
       "    .dataframe thead th {\n",
       "        text-align: right;\n",
       "    }\n",
       "</style>\n",
       "<table border=\"1\" class=\"dataframe\">\n",
       "  <thead>\n",
       "    <tr style=\"text-align: right;\">\n",
       "      <th></th>\n",
       "      <th>Labels</th>\n",
       "      <th>Text</th>\n",
       "      <th>Text_Tag</th>\n",
       "    </tr>\n",
       "  </thead>\n",
       "  <tbody>\n",
       "    <tr>\n",
       "      <th>0</th>\n",
       "      <td>1</td>\n",
       "      <td>Says the Annies List political group supports ...</td>\n",
       "      <td>abortion</td>\n",
       "    </tr>\n",
       "    <tr>\n",
       "      <th>1</th>\n",
       "      <td>2</td>\n",
       "      <td>When did the decline of coal start? It started...</td>\n",
       "      <td>energy,history,job-accomplishments</td>\n",
       "    </tr>\n",
       "    <tr>\n",
       "      <th>2</th>\n",
       "      <td>3</td>\n",
       "      <td>Hillary Clinton agrees with John McCain \"by vo...</td>\n",
       "      <td>foreign-policy</td>\n",
       "    </tr>\n",
       "    <tr>\n",
       "      <th>3</th>\n",
       "      <td>1</td>\n",
       "      <td>Health care reform legislation is likely to ma...</td>\n",
       "      <td>health-care</td>\n",
       "    </tr>\n",
       "    <tr>\n",
       "      <th>4</th>\n",
       "      <td>2</td>\n",
       "      <td>The economic turnaround started at the end of ...</td>\n",
       "      <td>economy,jobs</td>\n",
       "    </tr>\n",
       "  </tbody>\n",
       "</table>\n",
       "</div>"
      ],
      "text/plain": [
       "   Labels                                               Text  \\\n",
       "0       1  Says the Annies List political group supports ...   \n",
       "1       2  When did the decline of coal start? It started...   \n",
       "2       3  Hillary Clinton agrees with John McCain \"by vo...   \n",
       "3       1  Health care reform legislation is likely to ma...   \n",
       "4       2  The economic turnaround started at the end of ...   \n",
       "\n",
       "                             Text_Tag  \n",
       "0                            abortion  \n",
       "1  energy,history,job-accomplishments  \n",
       "2                      foreign-policy  \n",
       "3                         health-care  \n",
       "4                        economy,jobs  "
      ]
     },
     "execution_count": 13,
     "metadata": {},
     "output_type": "execute_result"
    }
   ],
   "source": [
    "# Load data \n",
    "path = eg.fileopenbox()\n",
    "df = pd.read_csv(path)\n",
    "df.head()"
   ]
  },
  {
   "cell_type": "markdown",
   "metadata": {},
   "source": [
    "# Attribute Description:\n",
    "### Text - Raw content from social media/ new platforms\n",
    "### Text_Tag - Different types of content tags (9 unique products)\n",
    "### Labels - Represents various classes of Labels\n",
    "- Half-True - 2\n",
    "- False - 1\n",
    "- Mostly-True - 3\n",
    "- True - 5\n",
    "- Barely-True - 0\n",
    "- Not-Known - 4"
   ]
  },
  {
   "cell_type": "code",
   "execution_count": 14,
   "metadata": {},
   "outputs": [
    {
     "data": {
      "text/plain": [
       "Labels      0\n",
       "Text        0\n",
       "Text_Tag    0\n",
       "dtype: int64"
      ]
     },
     "execution_count": 14,
     "metadata": {},
     "output_type": "execute_result"
    }
   ],
   "source": [
    "# check if any null values in data | no Missing values in data\n",
    "df.isnull().sum()"
   ]
  },
  {
   "cell_type": "code",
   "execution_count": 15,
   "metadata": {},
   "outputs": [
    {
     "data": {
      "text/plain": [
       "Text(0, 0.5, 'Lable Count')"
      ]
     },
     "execution_count": 15,
     "metadata": {},
     "output_type": "execute_result"
    },
    {
     "data": {
      "image/png": "[encoded data removed]",
      "text/plain": [
       "<Figure size 432x288 with 1 Axes>"
      ]
     },
     "metadata": {
      "needs_background": "light"
     },
     "output_type": "display_data"
    }
   ],
   "source": [
    "count_classes = pd.value_counts(df['Labels'], sort = False)\n",
    "count_classes.plot(kind = 'bar', rot=0)\n",
    "plt.title(\"Lables Distribution\")\n",
    "plt.xlabel(\"Lable\")\n",
    "plt.ylabel(\"Lable Count\")"
   ]
  },
  {
   "cell_type": "code",
   "execution_count": 16,
   "metadata": {},
   "outputs": [],
   "source": [
    "# it is a balanced data"
   ]
  },
  {
   "cell_type": "code",
   "execution_count": 17,
   "metadata": {},
   "outputs": [],
   "source": [
    "Text_TFIDF=TfidfVectorizer(use_idf=True,lowercase=True,strip_accents='ascii',stop_words='english', ngram_range=(1, 1))"
   ]
  },
  {
   "cell_type": "code",
   "execution_count": 18,
   "metadata": {},
   "outputs": [],
   "source": [
    "y=df.Labels\n",
    "x=Text_TFIDF.fit_transform(df.Text)"
   ]
  },
  {
   "cell_type": "code",
   "execution_count": 19,
   "metadata": {},
   "outputs": [],
   "source": [
    "x_train, x_test, y_train, y_test = train_test_split(x, y, random_state=4,test_size=0.33)"
   ]
  },
  {
   "cell_type": "code",
   "execution_count": 20,
   "metadata": {},
   "outputs": [
    {
     "name": "stdout",
     "output_type": "stream",
     "text": [
      "(6859, 11912)\n",
      "(3379,)\n"
     ]
    }
   ],
   "source": [
    "print(x_train.shape)\n",
    "print(y_test.shape)"
   ]
  },
  {
   "cell_type": "code",
   "execution_count": 25,
   "metadata": {},
   "outputs": [
    {
     "data": {
      "text/plain": [
       "array([[ 29, 161, 251,  89,   0,  14],\n",
       "       [ 33, 188, 278, 121,   0,  27],\n",
       "       [ 31, 151, 360, 136,   0,  23],\n",
       "       [ 18, 120, 306, 185,   0,  32],\n",
       "       [ 20,  95, 123,  33,   0,   7],\n",
       "       [ 20, 100, 256, 141,   0,  31]], dtype=int64)"
      ]
     },
     "metadata": {},
     "output_type": "display_data"
    },
    {
     "name": "stdout",
     "output_type": "stream",
     "text": [
      "              precision    recall  f1-score   support\n",
      "\n",
      "           0       0.19      0.05      0.08       544\n",
      "           1       0.23      0.29      0.26       647\n",
      "           2       0.23      0.51      0.32       701\n",
      "           3       0.26      0.28      0.27       661\n",
      "           4       0.00      0.00      0.00       278\n",
      "           5       0.23      0.06      0.09       548\n",
      "\n",
      "    accuracy                           0.23      3379\n",
      "   macro avg       0.19      0.20      0.17      3379\n",
      "weighted avg       0.21      0.23      0.20      3379\n",
      "\n",
      "Accuracy of model is 0.23\n"
     ]
    },
    {
     "data": {
      "image/png": "[encoded data removed]",
      "text/plain": [
       "<Figure size 432x288 with 1 Axes>"
      ]
     },
     "metadata": {
      "needs_background": "light"
     },
     "output_type": "display_data"
    }
   ],
   "source": [
    "model=naive_bayes.MultinomialNB()\n",
    "model.fit(x_train,y_train)\n",
    "y_pred = model.predict(x_test)\n",
    "count_classes = pd.value_counts(y_pred, sort = False)\n",
    "count_classes.plot(kind = 'bar', rot=0)\n",
    "plt.title(\"Lables Distribution\")\n",
    "plt.xlabel(\"Lable\")\n",
    "plt.ylabel(\"Lable Count\")\n",
    "display(confusion_matrix(y_true=y_test, y_pred=y_pred))\n",
    "print(classification_report(y_test, y_pred))\n",
    "print('Accuracy of model is', round(accuracy_score(y_test, y_pred),2))"
   ]
  },
  {
   "cell_type": "code",
   "execution_count": 26,
   "metadata": {},
   "outputs": [
    {
     "data": {
      "text/plain": [
       "array([[ 76, 174, 126,  86,  18,  64],\n",
       "       [ 90, 221, 137, 100,  29,  70],\n",
       "       [ 84, 160, 190, 149,  13, 105],\n",
       "       [ 71, 140, 155, 184,  11, 100],\n",
       "       [ 33, 101,  63,  35,  16,  30],\n",
       "       [ 58, 138, 131, 122,   6,  93]], dtype=int64)"
      ]
     },
     "metadata": {},
     "output_type": "display_data"
    },
    {
     "name": "stdout",
     "output_type": "stream",
     "text": [
      "              precision    recall  f1-score   support\n",
      "\n",
      "           0       0.18      0.14      0.16       544\n",
      "           1       0.24      0.34      0.28       647\n",
      "           2       0.24      0.27      0.25       701\n",
      "           3       0.27      0.28      0.28       661\n",
      "           4       0.17      0.06      0.09       278\n",
      "           5       0.20      0.17      0.18       548\n",
      "\n",
      "    accuracy                           0.23      3379\n",
      "   macro avg       0.22      0.21      0.21      3379\n",
      "weighted avg       0.22      0.23      0.22      3379\n",
      "\n",
      "Accuracy of model is 0.23\n"
     ]
    },
    {
     "data": {
      "image/png": "[encoded data removed]",
      "text/plain": [
       "<Figure size 432x288 with 1 Axes>"
      ]
     },
     "metadata": {
      "needs_background": "light"
     },
     "output_type": "display_data"
    }
   ],
   "source": [
    "xgb=xgboost.XGBClassifier()\n",
    "xgb.fit(x_train,y_train)\n",
    "y_pred = xgb.predict(x_test)\n",
    "count_classes = pd.value_counts(y_pred, sort = False)\n",
    "count_classes.plot(kind = 'bar', rot=0)\n",
    "plt.title(\"Lables Distribution\")\n",
    "plt.xlabel(\"Lable\")\n",
    "plt.ylabel(\"Lable Count\")\n",
    "display(confusion_matrix(y_true=y_test, y_pred=y_pred))\n",
    "print(classification_report(y_test, y_pred))\n",
    "print('Accuracy of model is', round(accuracy_score(y_test, y_pred),2))"
   ]
  },
  {
   "cell_type": "markdown",
   "metadata": {},
   "source": [
    "# Problem Statement 2\n",
    "Create an Image Analytics script to detect License Number plate in the images.\n",
    "You could use OpenCV or Libraries of your choice. The application should draw a bounding box around the\n",
    "License plate and blur the license plate.\n",
    "We could use online Jupyter Lab or similar environment to build this.\n",
    "Hint: you could use OpenCV cascade Classifier for this exercise\n",
    "https://github.com/opencv/opencv/blob/master/data/haarcascades/haarcascade_russian_plate_number.x\n",
    "ml"
   ]
  },
  {
   "cell_type": "code",
   "execution_count": null,
   "metadata": {},
   "outputs": [],
   "source": []
  },
  {
   "cell_type": "code",
   "execution_count": null,
   "metadata": {},
   "outputs": [],
   "source": []
  }
 ],
 "metadata": {
  "kernelspec": {
   "display_name": "Python 3",
   "language": "python",
   "name": "python3"
  },
  "language_info": {
   "codemirror_mode": {
    "name": "ipython",
    "version": 3
   },
   "file_extension": ".py",
   "mimetype": "text/x-python",
   "name": "python",
   "nbconvert_exporter": "python",
   "pygments_lexer": "ipython3",
   "version": "3.8.3"
  }
 },
 "nbformat": 4,
 "nbformat_minor": 4
}
